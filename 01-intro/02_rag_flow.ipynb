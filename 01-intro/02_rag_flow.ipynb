{
 "cells": [
  {
   "cell_type": "markdown",
   "id": "5080c244-530b-4e08-97e6-934c88ebbb34",
   "metadata": {},
   "source": [
    "# 1. Import"
   ]
  },
  {
   "cell_type": "code",
   "execution_count": 1,
   "id": "6994192a-532f-496c-aeb0-adab192d0246",
   "metadata": {},
   "outputs": [],
   "source": [
    "from rag_utils import load_and_indexknowledge_base, search, build_prompt, llm\n",
    "\n",
    "from dotenv import load_dotenv\n",
    "from openai import OpenAI\n",
    "\n",
    "import os\n",
    "\n",
    "load_dotenv()\n",
    "client = OpenAI(api_key=os.getenv('OPENAI_API_KEY'))"
   ]
  },
  {
   "cell_type": "code",
   "execution_count": 2,
   "id": "340c2d53-6e2a-4d99-ba02-24c152665152",
   "metadata": {},
   "outputs": [],
   "source": [
    "file_path = './documents.json'"
   ]
  },
  {
   "cell_type": "markdown",
   "id": "2debab9e-21a6-4cb4-b188-f2208665f007",
   "metadata": {},
   "source": [
    "# 2. Minsearch"
   ]
  },
  {
   "cell_type": "code",
   "execution_count": 3,
   "id": "d9cad0f4-1893-448f-9a7d-2c58ecd5ac44",
   "metadata": {},
   "outputs": [],
   "source": [
    "index = load_and_indexknowledge_base(file_path)\n",
    "index_boost = {'question': 3.0, 'section': 0.5}\n",
    "index_filter = {'course': 'data-engineering-zoomcamp'}"
   ]
  },
  {
   "cell_type": "code",
   "execution_count": 4,
   "id": "eaf512a7-34e8-48e1-9f9f-bd27164a8bf8",
   "metadata": {},
   "outputs": [
    {
     "data": {
      "text/plain": [
       "'Yes, you can still enroll in the course even after it has started. You are eligible to submit homework, but please be mindful of the deadlines for the final projects.'"
      ]
     },
     "execution_count": 4,
     "metadata": {},
     "output_type": "execute_result"
    }
   ],
   "source": [
    "q = 'the course has already started, can I still enroll?'\n",
    "\n",
    "def minsearch_rag(query):\n",
    "    search_results = search(index, query, index_boost, index_filter, top_k=5)\n",
    "    prompt = build_prompt(query, search_results)\n",
    "    answer = llm(client, prompt, model_name='gpt-4o')\n",
    "    return {'search_results': search_results, 'prompt': prompt, 'answer': answer}\n",
    "\n",
    "minsearch_response = minsearch_rag(q)\n",
    "minsearch_response['answer']"
   ]
  },
  {
   "cell_type": "code",
   "execution_count": null,
   "id": "8bc02bb0-ad1e-475a-8cf0-d5af3ff428a1",
   "metadata": {},
   "outputs": [],
   "source": []
  }
 ],
 "metadata": {
  "kernelspec": {
   "display_name": "Python 3 (ipykernel)",
   "language": "python",
   "name": "python3"
  },
  "language_info": {
   "codemirror_mode": {
    "name": "ipython",
    "version": 3
   },
   "file_extension": ".py",
   "mimetype": "text/x-python",
   "name": "python",
   "nbconvert_exporter": "python",
   "pygments_lexer": "ipython3",
   "version": "3.12.3"
  }
 },
 "nbformat": 4,
 "nbformat_minor": 5
}
