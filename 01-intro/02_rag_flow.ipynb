{
 "cells": [
  {
   "cell_type": "markdown",
   "id": "5080c244-530b-4e08-97e6-934c88ebbb34",
   "metadata": {},
   "source": [
    "# 1. Import"
   ]
  },
  {
   "cell_type": "code",
   "execution_count": 1,
   "id": "6994192a-532f-496c-aeb0-adab192d0246",
   "metadata": {},
   "outputs": [],
   "source": [
    "from rag_utils import minsearch_index, elasticsearch_index, search, elastic_search, build_prompt, llm\n",
    "\n",
    "from dotenv import load_dotenv\n",
    "from openai import OpenAI\n",
    "\n",
    "import os\n",
    "\n",
    "load_dotenv()\n",
    "client = OpenAI(api_key=os.getenv('OPENAI_API_KEY'))"
   ]
  },
  {
   "cell_type": "code",
   "execution_count": 2,
   "id": "340c2d53-6e2a-4d99-ba02-24c152665152",
   "metadata": {},
   "outputs": [],
   "source": [
    "file_path = './documents.json'"
   ]
  },
  {
   "cell_type": "markdown",
   "id": "2debab9e-21a6-4cb4-b188-f2208665f007",
   "metadata": {},
   "source": [
    "# 2. Minsearch"
   ]
  },
  {
   "cell_type": "code",
   "execution_count": 3,
   "id": "d9cad0f4-1893-448f-9a7d-2c58ecd5ac44",
   "metadata": {},
   "outputs": [],
   "source": [
    "index = minsearch_index(file_path)\n",
    "index_boost = {'question': 3.0, 'section': 0.5}\n",
    "index_filter = {'course': 'data-engineering-zoomcamp'}"
   ]
  },
  {
   "cell_type": "code",
   "execution_count": 4,
   "id": "eaf512a7-34e8-48e1-9f9f-bd27164a8bf8",
   "metadata": {},
   "outputs": [
    {
     "data": {
      "text/plain": [
       "\"Yes, you can still enroll in the course after it has started. You are eligible to submit the homeworks even if you don't register before the course begins. However, be sure to adhere to the deadlines for submitting the final projects to avoid any issues.\""
      ]
     },
     "execution_count": 4,
     "metadata": {},
     "output_type": "execute_result"
    }
   ],
   "source": [
    "q = 'the course has already started, can I still enroll?'\n",
    "\n",
    "def minsearch_rag(query):\n",
    "    search_results = search(index, query, index_boost, index_filter, top_k=5)\n",
    "    prompt = build_prompt(query, search_results)\n",
    "    answer = llm(client, prompt, model_name='gpt-4o')\n",
    "    return {'search_results': search_results, 'prompt': prompt, 'answer': answer}\n",
    "\n",
    "minsearch_response = minsearch_rag(q)\n",
    "minsearch_response['answer']"
   ]
  },
  {
   "cell_type": "markdown",
   "id": "306d6922-2410-45f6-8926-c62970a12482",
   "metadata": {},
   "source": [
    "# 3. Elasticsearch"
   ]
  },
  {
   "cell_type": "code",
   "execution_count": 5,
   "id": "6565325f-3250-4420-95c0-c960d651de20",
   "metadata": {},
   "outputs": [
    {
     "data": {
      "application/vnd.jupyter.widget-view+json": {
       "model_id": "3b3d77c95e574ab98bae414dcd516fd1",
       "version_major": 2,
       "version_minor": 0
      },
      "text/plain": [
       "  0%|          | 0/948 [00:00<?, ?it/s]"
      ]
     },
     "metadata": {},
     "output_type": "display_data"
    }
   ],
   "source": [
    "es_client = elasticsearch_index(file_path, 'http://localhost:9200')"
   ]
  },
  {
   "cell_type": "code",
   "execution_count": 6,
   "id": "e17cfc51-f8eb-43f1-84c7-d22e70cce8d4",
   "metadata": {},
   "outputs": [
    {
     "data": {
      "text/plain": [
       "\"Yes, you can still enroll in the course after it has started. You can submit homework even if you haven't registered. However, be mindful of the deadlines for the final projects and avoid leaving everything until the last minute.\""
      ]
     },
     "execution_count": 6,
     "metadata": {},
     "output_type": "execute_result"
    }
   ],
   "source": [
    "q = 'the course has already started, can I still enroll?'\n",
    "\n",
    "def elastic_rag(query): \n",
    "    search_results = elastic_search(query, es_client, index_name='course-questions')\n",
    "    prompt = build_prompt(query, search_results)\n",
    "    answer = llm(client, prompt, model_name='gpt-4o')\n",
    "    return {'search_results': search_results, 'prompt': prompt, 'answer': answer}\n",
    "\n",
    "elasticsearch_response = elastic_rag(q)\n",
    "elasticsearch_response['answer']"
   ]
  }
 ],
 "metadata": {
  "kernelspec": {
   "display_name": "Python 3 (ipykernel)",
   "language": "python",
   "name": "python3"
  },
  "language_info": {
   "codemirror_mode": {
    "name": "ipython",
    "version": 3
   },
   "file_extension": ".py",
   "mimetype": "text/x-python",
   "name": "python",
   "nbconvert_exporter": "python",
   "pygments_lexer": "ipython3",
   "version": "3.12.3"
  }
 },
 "nbformat": 4,
 "nbformat_minor": 5
}
