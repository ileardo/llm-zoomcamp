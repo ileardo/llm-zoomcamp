{
 "cells": [
  {
   "cell_type": "code",
   "execution_count": 1,
   "id": "58a69d28-e900-4302-b8df-26c1c7bbf2da",
   "metadata": {},
   "outputs": [
    {
     "data": {
      "text/plain": [
       "True"
      ]
     },
     "execution_count": 1,
     "metadata": {},
     "output_type": "execute_result"
    }
   ],
   "source": [
    "from openai import OpenAI\n",
    "\n",
    "import os\n",
    "from dotenv import load_dotenv\n",
    "\n",
    "load_dotenv()"
   ]
  },
  {
   "cell_type": "code",
   "execution_count": 2,
   "id": "a9623b75-3f0a-4d39-bd0d-ae27bd1b95ec",
   "metadata": {},
   "outputs": [],
   "source": [
    "client = OpenAI(api_key=os.getenv('OPENAI_API_KEY'))"
   ]
  },
  {
   "cell_type": "code",
   "execution_count": 11,
   "id": "d1134c9b-a865-4210-aae2-361886917436",
   "metadata": {},
   "outputs": [],
   "source": [
    "response = client.chat.completions.create(\n",
    "    model='gpt-4o-mini',\n",
    "    messages=[\n",
    "        {\n",
    "            'role': 'user',\n",
    "            'content': 'generate a 1 minute bed time story about a robot'\n",
    "        }\n",
    "    ]\n",
    ")"
   ]
  },
  {
   "cell_type": "code",
   "execution_count": 12,
   "id": "48b372f2-627b-438d-ad7d-fe0792326e27",
   "metadata": {},
   "outputs": [
    {
     "data": {
      "text/markdown": [
       "Once upon a time in a cozy little village, there lived a gentle robot named Benny. Benny was unlike any other robot; he had a shiny silver body, bright blue eyes, and a heart full of kindness. Every evening, Benny would walk through the village, helping everyone he met. He watered Mrs. Green’s garden, fixed Mr. Cobb’s fence, and even helped little Lucy find her lost puppy.\n",
       "\n",
       "One starry night, as Benny was finishing his tasks, he noticed a soft glow coming from the edge of the forest. Curious, he followed the light and discovered a tiny, lost star. The star was shivering, afraid of being alone and far from the sky. \n",
       "\n",
       "“Don’t worry, little star! I’ll help you find your way home,” Benny said with a warm smile. With his bright blue eyes, he scanned the sky for the star’s place. He then gently lifted the star into his hands and, with a little twinkle of his circuits, he started to glow too!\n",
       "\n",
       "Benny soared into the air, flying high up above the trees. The village beneath him twinkled like a thousand stars, but the little star knew exactly where to go. With Benny’s help, they reached the starlit sky. \n",
       "\n",
       "“Thank you, Benny!” the little star twinkled brightly. “You’ve made my dreams come true!” \n",
       "\n",
       "With a happy heart, Benny floated back down, feeling proud of his kindness. From that night on, the villagers could see a new twinkling star shining brightly above, reminding them all of the gentle robot who helped a little star find its way home.\n",
       "\n",
       "And with that, Benny returned to his cozy spot in the village, resting peacefully as the stars twinkled above. \n",
       "\n",
       "Goodnight, little one; may your dreams be as bright as the stars!"
      ],
      "text/plain": [
       "<IPython.core.display.Markdown object>"
      ]
     },
     "metadata": {},
     "output_type": "display_data"
    }
   ],
   "source": [
    "from IPython.display import display, Markdown\n",
    "\n",
    "display(Markdown(response.choices[0].message.content))"
   ]
  },
  {
   "cell_type": "code",
   "execution_count": null,
   "id": "9b790371-5c6a-497d-8eb8-26b9634133aa",
   "metadata": {},
   "outputs": [],
   "source": []
  }
 ],
 "metadata": {
  "kernelspec": {
   "display_name": "Python 3 (ipykernel)",
   "language": "python",
   "name": "python3"
  },
  "language_info": {
   "codemirror_mode": {
    "name": "ipython",
    "version": 3
   },
   "file_extension": ".py",
   "mimetype": "text/x-python",
   "name": "python",
   "nbconvert_exporter": "python",
   "pygments_lexer": "ipython3",
   "version": "3.12.3"
  }
 },
 "nbformat": 4,
 "nbformat_minor": 5
}
